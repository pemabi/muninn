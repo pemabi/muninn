{
 "cells": [
  {
   "cell_type": "code",
   "execution_count": 1,
   "metadata": {},
   "outputs": [
    {
     "name": "stdout",
     "output_type": "stream",
     "text": [
      "SQA1, SQB1, SQC1, SQD1, SQE1, SQF1, SQG1, SQH1, SQI1, \n",
      "SQA2, SQB2, SQC2, SQD2, SQE2, SQF2, SQG2, SQH2, SQI2, \n",
      "SQA3, SQB3, SQC3, SQD3, SQE3, SQF3, SQG3, SQH3, SQI3, \n",
      "SQA4, SQB4, SQC4, SQD4, SQE4, SQF4, SQG4, SQH4, SQI4, \n",
      "SQA5, SQB5, SQC5, SQD5, SQE5, SQF5, SQG5, SQH5, SQI5, \n",
      "SQA6, SQB6, SQC6, SQD6, SQE6, SQF6, SQG6, SQH6, SQI6, \n",
      "SQA7, SQB7, SQC7, SQD7, SQE7, SQF7, SQG7, SQH7, SQI7, \n",
      "SQA8, SQB8, SQC8, SQD8, SQE8, SQF8, SQG8, SQH8, SQI8, \n",
      "SQA9, SQB9, SQC9, SQD9, SQE9, SQF9, SQG9, SQH9, SQI9, \n"
     ]
    }
   ],
   "source": [
    "files = [\"A\", \"B\", \"C\", \"D\", \"E\", \"F\", \"G\", \"H\", \"I\"]\n",
    "\n",
    "for j in range(1, 10):\n",
    "    for i in files:\n",
    "        print(f'SQ{i}{j}, ', end='')\n",
    "    print()"
   ]
  },
  {
   "cell_type": "code",
   "execution_count": 2,
   "metadata": {},
   "outputs": [
    {
     "name": "stdout",
     "output_type": "stream",
     "text": [
      "FileA, FileB, FileC, FileD, FileE, FileF, FileG, FileH, FileI, \n",
      "FileA, FileB, FileC, FileD, FileE, FileF, FileG, FileH, FileI, \n",
      "FileA, FileB, FileC, FileD, FileE, FileF, FileG, FileH, FileI, \n",
      "FileA, FileB, FileC, FileD, FileE, FileF, FileG, FileH, FileI, \n",
      "FileA, FileB, FileC, FileD, FileE, FileF, FileG, FileH, FileI, \n",
      "FileA, FileB, FileC, FileD, FileE, FileF, FileG, FileH, FileI, \n",
      "FileA, FileB, FileC, FileD, FileE, FileF, FileG, FileH, FileI, \n",
      "FileA, FileB, FileC, FileD, FileE, FileF, FileG, FileH, FileI, \n",
      "FileA, FileB, FileC, FileD, FileE, FileF, FileG, FileH, FileI, \n"
     ]
    }
   ],
   "source": [
    "for j in range(1, 10):\n",
    "    for file in files:\n",
    "        print(f\"File{file}, \", end='')\n",
    "    print('')"
   ]
  },
  {
   "cell_type": "code",
   "execution_count": 3,
   "metadata": {},
   "outputs": [
    {
     "name": "stdout",
     "output_type": "stream",
     "text": [
      "Rank1, Rank1, Rank1, Rank1, Rank1, Rank1, Rank1, Rank1, Rank1, \n",
      "Rank2, Rank2, Rank2, Rank2, Rank2, Rank2, Rank2, Rank2, Rank2, \n",
      "Rank3, Rank3, Rank3, Rank3, Rank3, Rank3, Rank3, Rank3, Rank3, \n",
      "Rank4, Rank4, Rank4, Rank4, Rank4, Rank4, Rank4, Rank4, Rank4, \n",
      "Rank5, Rank5, Rank5, Rank5, Rank5, Rank5, Rank5, Rank5, Rank5, \n",
      "Rank6, Rank6, Rank6, Rank6, Rank6, Rank6, Rank6, Rank6, Rank6, \n",
      "Rank7, Rank7, Rank7, Rank7, Rank7, Rank7, Rank7, Rank7, Rank7, \n",
      "Rank8, Rank8, Rank8, Rank8, Rank8, Rank8, Rank8, Rank8, Rank8, \n",
      "Rank9, Rank9, Rank9, Rank9, Rank9, Rank9, Rank9, Rank9, Rank9, \n"
     ]
    }
   ],
   "source": [
    "for i in range(1, 10):\n",
    "    for j in range(9):\n",
    "        print(f\"Rank{i}, \", end='')\n",
    "    print('')"
   ]
  },
  {
   "cell_type": "code",
   "execution_count": 4,
   "metadata": {},
   "outputs": [
    {
     "name": "stdout",
     "output_type": "stream",
     "text": [
      "Bitboard(UINT64_C(1) << 0,                    0),     // 0, SQA1\n",
      "Bitboard(UINT64_C(1) << 1,                    0),     // 1, SQB1\n",
      "Bitboard(UINT64_C(1) << 2,                    0),     // 2, SQC1\n",
      "Bitboard(UINT64_C(1) << 3,                    0),     // 3, SQD1\n",
      "Bitboard(UINT64_C(1) << 4,                    0),     // 4, SQE1\n",
      "Bitboard(UINT64_C(1) << 5,                    0),     // 5, SQF1\n",
      "Bitboard(UINT64_C(1) << 6,                    0),     // 6, SQG1\n",
      "Bitboard(UINT64_C(1) << 7,                    0),     // 7, SQH1\n",
      "Bitboard(UINT64_C(1) << 8,                    0),     // 8, SQI1\n",
      "Bitboard(UINT64_C(1) << 9,                    0),     // 9, SQA2\n",
      "Bitboard(UINT64_C(1) << 10,                    0),     // 10, SQB2\n",
      "Bitboard(UINT64_C(1) << 11,                    0),     // 11, SQC2\n",
      "Bitboard(UINT64_C(1) << 12,                    0),     // 12, SQD2\n",
      "Bitboard(UINT64_C(1) << 13,                    0),     // 13, SQE2\n",
      "Bitboard(UINT64_C(1) << 14,                    0),     // 14, SQF2\n",
      "Bitboard(UINT64_C(1) << 15,                    0),     // 15, SQG2\n",
      "Bitboard(UINT64_C(1) << 16,                    0),     // 16, SQH2\n",
      "Bitboard(UINT64_C(1) << 17,                    0),     // 17, SQI2\n",
      "Bitboard(UINT64_C(1) << 18,                    0),     // 18, SQA3\n",
      "Bitboard(UINT64_C(1) << 19,                    0),     // 19, SQB3\n",
      "Bitboard(UINT64_C(1) << 20,                    0),     // 20, SQC3\n",
      "Bitboard(UINT64_C(1) << 21,                    0),     // 21, SQD3\n",
      "Bitboard(UINT64_C(1) << 22,                    0),     // 22, SQE3\n",
      "Bitboard(UINT64_C(1) << 23,                    0),     // 23, SQF3\n",
      "Bitboard(UINT64_C(1) << 24,                    0),     // 24, SQG3\n",
      "Bitboard(UINT64_C(1) << 25,                    0),     // 25, SQH3\n",
      "Bitboard(UINT64_C(1) << 26,                    0),     // 26, SQI3\n",
      "Bitboard(UINT64_C(1) << 27,                    0),     // 27, SQA4\n",
      "Bitboard(UINT64_C(1) << 28,                    0),     // 28, SQB4\n",
      "Bitboard(UINT64_C(1) << 29,                    0),     // 29, SQC4\n",
      "Bitboard(UINT64_C(1) << 30,                    0),     // 30, SQD4\n",
      "Bitboard(UINT64_C(1) << 31,                    0),     // 31, SQE4\n",
      "Bitboard(UINT64_C(1) << 32,                    0),     // 32, SQF4\n",
      "Bitboard(UINT64_C(1) << 33,                    0),     // 33, SQG4\n",
      "Bitboard(UINT64_C(1) << 34,                    0),     // 34, SQH4\n",
      "Bitboard(UINT64_C(1) << 35,                    0),     // 35, SQI4\n",
      "Bitboard(UINT64_C(1) << 36,                    0),     // 36, SQA5\n",
      "Bitboard(UINT64_C(1) << 37,                    0),     // 37, SQB5\n",
      "Bitboard(UINT64_C(1) << 38,                    0),     // 38, SQC5\n",
      "Bitboard(UINT64_C(1) << 39,                    0),     // 39, SQD5\n",
      "Bitboard(UINT64_C(1) << 40,                    0),     // 40, SQE5\n",
      "Bitboard(UINT64_C(1) << 41,                    0),     // 41, SQF5\n",
      "Bitboard(UINT64_C(1) << 42,                    0),     // 42, SQG5\n",
      "Bitboard(UINT64_C(1) << 43,                    0),     // 43, SQH5\n",
      "Bitboard(UINT64_C(1) << 44,                    0),     // 44, SQI5\n",
      "Bitboard(UINT64_C(1) << 45,                    0),     // 45, SQA6\n",
      "Bitboard(UINT64_C(1) << 46,                    0),     // 46, SQB6\n",
      "Bitboard(UINT64_C(1) << 47,                    0),     // 47, SQC6\n",
      "Bitboard(UINT64_C(1) << 48,                    0),     // 48, SQD6\n",
      "Bitboard(UINT64_C(1) << 49,                    0),     // 49, SQE6\n",
      "Bitboard(UINT64_C(1) << 50,                    0),     // 50, SQF6\n",
      "Bitboard(UINT64_C(1) << 51,                    0),     // 51, SQG6\n",
      "Bitboard(UINT64_C(1) << 52,                    0),     // 52, SQH6\n",
      "Bitboard(UINT64_C(1) << 53,                    0),     // 53, SQI6\n",
      "Bitboard(UINT64_C(1) << 54,                    0),     // 54, SQA7\n",
      "Bitboard(UINT64_C(1) << 55,                    0),     // 55, SQB7\n",
      "Bitboard(UINT64_C(1) << 56,                    0),     // 56, SQC7\n",
      "Bitboard(UINT64_C(1) << 57,                    0),     // 57, SQD7\n",
      "Bitboard(UINT64_C(1) << 58,                    0),     // 58, SQE7\n",
      "Bitboard(UINT64_C(1) << 59,                    0),     // 59, SQF7\n",
      "Bitboard(UINT64_C(1) << 60,                    0),     // 60, SQG7\n",
      "Bitboard(UINT64_C(1) << 61,                    0),     // 61, SQH7\n",
      "Bitboard(UINT64_C(1) << 62,                    0),     // 62, SQI7\n",
      "Bitboard(                   0, UINT64_C(1) << 0),     // 63, SQA8\n",
      "Bitboard(                   0, UINT64_C(1) << 1),     // 64, SQB8\n",
      "Bitboard(                   0, UINT64_C(1) << 2),     // 65, SQC8\n",
      "Bitboard(                   0, UINT64_C(1) << 3),     // 66, SQD8\n",
      "Bitboard(                   0, UINT64_C(1) << 4),     // 67, SQE8\n",
      "Bitboard(                   0, UINT64_C(1) << 5),     // 68, SQF8\n",
      "Bitboard(                   0, UINT64_C(1) << 6),     // 69, SQG8\n",
      "Bitboard(                   0, UINT64_C(1) << 7),     // 70, SQH8\n",
      "Bitboard(                   0, UINT64_C(1) << 8),     // 71, SQI8\n",
      "Bitboard(                   0, UINT64_C(1) << 9),     // 72, SQA9\n",
      "Bitboard(                   0, UINT64_C(1) << 10),     // 73, SQB9\n",
      "Bitboard(                   0, UINT64_C(1) << 11),     // 74, SQC9\n",
      "Bitboard(                   0, UINT64_C(1) << 12),     // 75, SQD9\n",
      "Bitboard(                   0, UINT64_C(1) << 13),     // 76, SQE9\n",
      "Bitboard(                   0, UINT64_C(1) << 14),     // 77, SQF9\n",
      "Bitboard(                   0, UINT64_C(1) << 15),     // 78, SQG9\n",
      "Bitboard(                   0, UINT64_C(1) << 16),     // 79, SQH9\n",
      "Bitboard(                   0, UINT64_C(1) << 17),     // 80, SQI9\n"
     ]
    }
   ],
   "source": [
    "for i in range(63):\n",
    "    print(f\"Bitboard(UINT64_C(1) << {i},                    0),     // {i}, SQ{files[i%9]}{i//9+1}\")\n",
    "for i in range(63, 81):\n",
    "    print(f\"Bitboard(                   0, UINT64_C(1) << {i-63}),     // {i}, SQ{files[i%9]}{i//9+1}\")"
   ]
  },
  {
   "cell_type": "code",
   "execution_count": 5,
   "metadata": {},
   "outputs": [
    {
     "name": "stdout",
     "output_type": "stream",
     "text": [
      "const Bitboard Rank1Mask = Bitboard(UINT64_C(0x1ff) << (9 * 0), 0);\n",
      "const Bitboard Rank2Mask = Bitboard(UINT64_C(0x1ff) << (9 * 1), 0);\n",
      "const Bitboard Rank3Mask = Bitboard(UINT64_C(0x1ff) << (9 * 2), 0);\n",
      "const Bitboard Rank4Mask = Bitboard(UINT64_C(0x1ff) << (9 * 3), 0);\n",
      "const Bitboard Rank5Mask = Bitboard(UINT64_C(0x1ff) << (9 * 4), 0);\n",
      "const Bitboard Rank6Mask = Bitboard(UINT64_C(0x1ff) << (9 * 5), 0);\n",
      "const Bitboard Rank7Mask = Bitboard(UINT64_C(0x1ff) << (9 * 6), 0);\n"
     ]
    }
   ],
   "source": [
    "for i in range(7):\n",
    "    print(f\"const Bitboard Rank{i+1}Mask = Bitboard(UINT64_C(0x1ff) << (9 * {i}), 0);\")"
   ]
  },
  {
   "cell_type": "code",
   "execution_count": 6,
   "metadata": {},
   "outputs": [
    {
     "name": "stdout",
     "output_type": "stream",
     "text": [
      "const Bitboard File1Mask = Bitboard(UINT64_C(0x40201008040201) << 0, UINT64_C(0x201) << 0);\n",
      "const Bitboard File2Mask = Bitboard(UINT64_C(0x40201008040201) << 1, UINT64_C(0x201) << 1);\n",
      "const Bitboard File3Mask = Bitboard(UINT64_C(0x40201008040201) << 2, UINT64_C(0x201) << 2);\n",
      "const Bitboard File4Mask = Bitboard(UINT64_C(0x40201008040201) << 3, UINT64_C(0x201) << 3);\n",
      "const Bitboard File5Mask = Bitboard(UINT64_C(0x40201008040201) << 4, UINT64_C(0x201) << 4);\n",
      "const Bitboard File6Mask = Bitboard(UINT64_C(0x40201008040201) << 5, UINT64_C(0x201) << 5);\n",
      "const Bitboard File7Mask = Bitboard(UINT64_C(0x40201008040201) << 6, UINT64_C(0x201) << 6);\n",
      "const Bitboard File8Mask = Bitboard(UINT64_C(0x40201008040201) << 7, UINT64_C(0x201) << 7);\n",
      "const Bitboard File9Mask = Bitboard(UINT64_C(0x40201008040201) << 8, UINT64_C(0x201) << 8);\n",
      "const Bitboard File10Mask = Bitboard(UINT64_C(0x40201008040201) << 9, UINT64_C(0x201) << 9);\n"
     ]
    }
   ],
   "source": [
    "for i in range(10):\n",
    "    print(f\"const Bitboard File{i+1}Mask = Bitboard(UINT64_C(0x40201008040201) << {i}, UINT64_C(0x201) << {i});\")"
   ]
  },
  {
   "cell_type": "code",
   "execution_count": 7,
   "metadata": {},
   "outputs": [
    {
     "name": "stdout",
     "output_type": "stream",
     "text": [
      "495616\n",
      "7143424\n",
      "14.413223140495868\n"
     ]
    }
   ],
   "source": [
    "SHIFT_BITS = [  # represents bits we shift when calculating move index. Generally follows pattern 64 - BLOCKER_BITS[i]\n",
    "    50, 51, 51, 51, 51, 51, 51, 51, 50,\n",
    "    51, 52, 52, 52, 52, 52, 52, 52, 51, # [17]: 51 -> 50\n",
    "    51, 52, 52, 52, 52, 52, 52, 52, 51,\n",
    "    51, 52, 52, 52, 52, 52, 52, 52, 51,\n",
    "    51, 52, 52, 52, 52, 52, 52, 52, 51,\n",
    "    51, 52, 52, 52, 52, 52, 52, 52, 51, # [53]: 51 -> 50\n",
    "    51, 52, 52, 52, 52, 52, 52, 52, 51,\n",
    "    51, 52, 52, 52, 52, 52, 52, 52, 51,\n",
    "    50, 51, 51, 51, 51, 51, 51, 51, 50]\n",
    "\n",
    "s = 0\n",
    "for bit in SHIFT_BITS:\n",
    "    s += 2**(64-bit)\n",
    "print(s)\n",
    "\n",
    "for i in range(81):\n",
    "    if SHIFT_BITS[i] == 50:\n",
    "        SHIFT_BITS[1] -= 2\n",
    "    elif SHIFT_BITS[i] == 51:\n",
    "        SHIFT_BITS[i] -=  3\n",
    "    elif SHIFT_BITS[i] == 52:\n",
    "        SHIFT_BITS[i] -= 4\n",
    "s1 = 0\n",
    "for bit in SHIFT_BITS:\n",
    "    s1 += 2**(64-bit)\n",
    "print(s1)\n",
    "print(s1/s)"
   ]
  },
  {
   "cell_type": "code",
   "execution_count": 8,
   "metadata": {},
   "outputs": [
    {
     "name": "stdout",
     "output_type": "stream",
     "text": [
      "784\n"
     ]
    }
   ],
   "source": [
    "bits = [2, 2, 3, 3, 3, 3, 3, 2, 2, 2, 2, 3, 3, 3, 3, 3, 2, 2, 3, 3, 4, 4, 4, 4, 4, 3, 3, 3, 3, 4, 4, 4, 4, 4, 3, 3, 3, 3, 4, 4, 4, 4, 4, 3, 3, 3, 3, 4, 4, 4, 4, 4, 3, 3, 3, 3, 4, 4, 4, 4, 4, 3, 3, 2, 2, 3, 3, 3, 3, 3, 2, 2, 2, 2, 3, 3, 3, 3, 3, 2, 2]\n",
    "s = 0\n",
    "for bit in bits:\n",
    "    s += 2**bit\n",
    "print(s)"
   ]
  },
  {
   "cell_type": "code",
   "execution_count": 9,
   "metadata": {},
   "outputs": [
    {
     "name": "stdout",
     "output_type": "stream",
     "text": [
      "UINT64_C(1173223578825400672), \n",
      "UINT64_C(1197971831038935041), \n",
      "UINT64_C(4756162018115977216), \n",
      "UINT64_C(2595552709541109780), \n",
      "UINT64_C(675542143137218560), \n",
      "UINT64_C(5208416268931400198), \n",
      "UINT64_C(234328469347581956), \n",
      "UINT64_C(5557776896101459969), \n",
      "UINT64_C(1283526032581730400), \n",
      "UINT64_C(229837684967741457), \n",
      "UINT64_C(1133701714935808), \n",
      "UINT64_C(585751643811749892), \n",
      "UINT64_C(291097907083348224), \n",
      "UINT64_C(292804484378530304), \n",
      "UINT64_C(18665363214450690), \n",
      "UINT64_C(2307083259135148544), \n",
      "UINT64_C(5801226208315310080), \n",
      "UINT64_C(867277609973579779), \n",
      "UINT64_C(2310351060709544448), \n",
      "UINT64_C(2377905140365688848), \n",
      "UINT64_C(1172143166887952576), \n",
      "UINT64_C(298373370920046624), \n",
      "UINT64_C(437132288371752962), \n",
      "UINT64_C(153474849531136033), \n",
      "UINT64_C(144134192233447424), \n",
      "UINT64_C(39406840337932288), \n",
      "UINT64_C(596729708012519424), \n",
      "UINT64_C(2324986651530559488), \n",
      "UINT64_C(6919785784925030446), \n",
      "UINT64_C(6919781034150086688), \n",
      "UINT64_C(649083719075791008), \n",
      "UINT64_C(9574598936907776), \n",
      "UINT64_C(9077847708665856), \n",
      "UINT64_C(35254299824136), \n",
      "UINT64_C(360358650725806608), \n",
      "UINT64_C(1477804159934978), \n",
      "UINT64_C(288477250880409920), \n",
      "UINT64_C(9511606923267408160), \n",
      "UINT64_C(9799841619730702401), \n",
      "UINT64_C(4764883241553887265), \n",
      "UINT64_C(550326501968), \n",
      "UINT64_C(284774067625993), \n",
      "UINT64_C(8865016449164), \n",
      "UINT64_C(72071064668110849), \n",
      "UINT64_C(288549294810598407), \n",
      "UINT64_C(4611722049444970625), \n",
      "UINT64_C(2305847441822458112), \n",
      "UINT64_C(2323859611188332544), \n",
      "UINT64_C(144115213880037768), \n",
      "UINT64_C(649083531826365600), \n",
      "UINT64_C(1441434460682785280), \n",
      "UINT64_C(20829148616344064), \n",
      "UINT64_C(18155828299440128), \n",
      "UINT64_C(156415699810519072), \n",
      "UINT64_C(7881986676885569), \n",
      "UINT64_C(10415700450585872422), \n",
      "UINT64_C(76579614796851588), \n",
      "UINT64_C(9225623840965558344), \n",
      "UINT64_C(72203831240556708), \n",
      "UINT64_C(5764897952280090689), \n",
      "UINT64_C(126171209854624018), \n",
      "UINT64_C(1153239830420277264), \n",
      "UINT64_C(2323544088543234), \n",
      "UINT64_C(1589771218352080010), \n",
      "UINT64_C(5408823496203698484), \n",
      "UINT64_C(2595202034588385536), \n",
      "UINT64_C(4760304814724784400), \n",
      "UINT64_C(5269240172867764226), \n",
      "UINT64_C(7566627916122270017), \n",
      "UINT64_C(585608735804885504), \n",
      "UINT64_C(6055393181524100672), \n",
      "UINT64_C(2487326750334268002), \n",
      "UINT64_C(148956337772955920), \n",
      "UINT64_C(2262829423927444), \n",
      "UINT64_C(5069341879959688), \n",
      "UINT64_C(4614259167828508737), \n",
      "UINT64_C(2533966280130826), \n",
      "UINT64_C(73341832213577732), \n",
      "UINT64_C(5188468377881935881), \n",
      "UINT64_C(4613139023244820484), \n",
      "UINT64_C(147243307337515009), \n"
     ]
    }
   ],
   "source": [
    "magics = [    0x104820A102002160, 0x10A00D0880000001, 0x4201482800020000,\n",
    "    0x2405417000002014, 0x0960020000800000, 0x4848030050058206,\n",
    "    0x0340808058394004, 0x4D2130A401002801, 0x11D0002050002060,\n",
    "    0x03308C2820801811, 0x0004071880000000, 0x0821020440002004,\n",
    "    0x040A300112900900, 0x0410402090061200, 0x0042500C88004002,\n",
    "    0x2004680030004200, 0x5082188010520000, 0x0C09306428200003,\n",
    "    0x2010040C880A1200, 0x2100042061128010, 0x10444A00004200C0,\n",
    "    0x0424090000201020, 0x0611018010408002, 0x0221409000428821,\n",
    "    0x02001148C0100000, 0x008C005000102000, 0x0848028201024000,\n",
    "    0x2044030A90010000, 0x600804824041082E, 0x6008003020004820,\n",
    "    0x09020234190080A0, 0x0022040C08805000, 0x0020404120000800,\n",
    "    0x0000201048049008, 0x0500404898403210, 0x0005400E18002202,\n",
    "    0x0400E08800821140, 0x8400041A20800120, 0x8800080807232041,\n",
    "    0x4220441011080021, 0x0000008022040250, 0x0001030021246009,\n",
    "    0x000008100C28088C, 0x01000C4060208001, 0x0401220E09600C07,\n",
    "    0x400020C520010081, 0x200004080C122100, 0x2040020108C20800,\n",
    "    0x02000006020C9188, 0x09020208801104A0, 0x1401010144011200,\n",
    "    0x004A000014404200, 0x004080A130642000, 0x022BB34010800820,\n",
    "    0x001C00A008000841, 0x908C0060040C0826, 0x011010C10100A984,\n",
    "    0x8008000100208048, 0x01008500808400A4, 0x50010824D4081841,\n",
    "    0x01C0400C00442112, 0x1001218401084810, 0x0008414044048002,\n",
    "    0x161000800804048A, 0x4B10005008020134, 0x2404028020030100,\n",
    "    0x421000020040A110, 0x49201A0504004002, 0x690210000005A941,\n",
    "    0x0820800AE3040A00, 0x5409140408110640, 0x2284C28042003262,\n",
    "    0x0211330000000910, 0x00080A0808002094, 0x0012028A22000088,\n",
    "    0x4009244408020041, 0x000900A10000010A, 0x0104900200444004,\n",
    "    0x4801248000000009, 0x400529800C000004, 0x020B1D0205680001]\n",
    "\n",
    "for magic in magics:\n",
    "    print(f\"UINT64_C({magic}), \")"
   ]
  },
  {
   "cell_type": "markdown",
   "metadata": {},
   "source": [
    "### HUFFMAN ENCODING"
   ]
  },
  {
   "cell_type": "code",
   "execution_count": 18,
   "metadata": {},
   "outputs": [],
   "source": [
    "import math"
   ]
  },
  {
   "cell_type": "code",
   "execution_count": 19,
   "metadata": {},
   "outputs": [
    {
     "name": "stdout",
     "output_type": "stream",
     "text": [
      "1.1867469084979332\n"
     ]
    }
   ],
   "source": [
    "A = ['attacker', 'defender', 'king', 'empty']\n",
    "W = [16/81, 6/81, 1/81, 56/81]\n",
    "\n",
    "information_content = [-1 * math.log(x, 2) for x in W]\n",
    "\n",
    "entropy = -sum(x * math.log2(x) for x in W)\n",
    "print(entropy)"
   ]
  },
  {
   "cell_type": "code",
   "execution_count": null,
   "metadata": {},
   "outputs": [
    {
     "name": "stdout",
     "output_type": "stream",
     "text": [
      "1.1867469084979332\n"
     ]
    }
   ],
   "source": [
    "A = ['attacker', 'defender', 'king', 'empty']\n",
    "W = [16/81, 6/81, 1/81, 56/81]\n",
    "\n",
    "information_content = [-1 * math.log(x, 2) for x in W]\n",
    "\n",
    "entropy = -sum(x * math.log2(x) for x in W)\n",
    "print(entropy)\n",
    "\n",
    "class Node:\n",
    "    def __init__(self, weight, name):\n",
    "        self.weight = weight\n",
    "        self.name = name\n",
    "        self.encoding = None\n",
    "\n",
    "class Leaf(Node):\n",
    "    def __init__(self, weight, name):\n",
    "        super().__init__(weight, name)\n",
    "\n",
    "class Internal(Node):\n",
    "    def __init__(self, weight, name, childA, childB):\n",
    "        super().__init__(weight, name)\n",
    "        self.childA = childA\n",
    "        self.childB = childB\n",
    "\n",
    "class Root(Node):\n",
    "    def __init__(self, weight, name, childA, childB):\n",
    "        super().__init__(weight, name)\n",
    "        self.name = name\n",
    "        self.childA = childA\n",
    "        self.childB = childB\n",
    "\n",
    "\n",
    "\n",
    "nodes = {leaf.name: leaf for leaf in [Leaf(W[i], A[i]) for i in range(4)]}\n",
    "priority_queue = [Leaf(W[i], A[i]) for i in range(4)]\n",
    "\n",
    "counter = 0\n",
    "while len(priority_queue) > 1:\n",
    "    counter += 1\n",
    "    low_index_1 = -1\n",
    "    low_index_2 = -1\n",
    "    W_min = 1\n",
    "    for i, node in enumerate(priority_queue):\n",
    "        if node.weight < W_min:\n",
    "            W_min = node.weight\n",
    "            low_index_1 = i\n",
    "    W_min = 1\n",
    "    for i, node in enumerate(priority_queue):\n",
    "        if node.weight < W_min and i != low_index_1:\n",
    "            W_min = node.weight\n",
    "            low_index_2 = i\n",
    "\n",
    "    node_1 = priority_queue[low_index_1]\n",
    "    node_2 = priority_queue[low_index_2]\n",
    "\n",
    "    node_name = f\"Node{counter}\"\n",
    "    new_node = Internal(node_1.weight + node_2.weight, node_name, nodes[node_1.name], nodes[node_2.name])\n",
    "    nodes[node_name] = new_node\n",
    "\n",
    "    if low_index_1 < low_index_2:\n",
    "        priority_queue.pop(low_index_1)\n",
    "        priority_queue.pop(low_index_2 - 1)\n",
    "    else:\n",
    "        priority_queue.pop(low_index_2)\n",
    "        priority_queue.pop(low_index_1 - 1)\n",
    "\n",
    "    priority_queue.append(new_node)\n",
    "\n",
    "nodes[\"Root\"] = Root(1, \"root\", nodes[node_1.name], nodes[node_2.name])"
   ]
  },
  {
   "cell_type": "code",
   "execution_count": 50,
   "metadata": {},
   "outputs": [
    {
     "name": "stdout",
     "output_type": "stream",
     "text": [
      "CONTRIBUTION TO WEIGHTED PATH:  1.419753086419753\n",
      "SHANNON ENTROPY:  1.2384688222028244\n"
     ]
    }
   ],
   "source": [
    "A = ['attacker', 'defender', 'king', 'empty']\n",
    "W = [16/81, 8/81, 1/81, 56/81]\n",
    "C = [2, 4, 5, 0]\n",
    "L = [2, 3, 3, 1]\n",
    "\n",
    "LW = [L[x] * W[x] for x in range(4)]\n",
    "print(\"CONTRIBUTION TO WEIGHTED PATH: \", sum(LW))\n",
    "\n",
    "entropy = -sum(x * math.log2(x) for x in W)\n",
    "print(\"SHANNON ENTROPY: \", entropy)"
   ]
  },
  {
   "cell_type": "code",
   "execution_count": 61,
   "metadata": {},
   "outputs": [],
   "source": [
    "b = ['empty', 'empty', 'empty', 'attacker', 'attacker', 'attacker', 'empty', 'empty', 'empty', 'empty', 'empty', 'empty', 'empty', 'attacker', 'empty', 'empty', 'empty', 'empty', 'attacker', 'empty', 'empty', 'empty', 'defender', 'empty', 'empty', 'empty', 'attacker', 'attacker', 'empty', 'empty', 'empty', 'defender', 'empty', 'empty', 'empty', 'attacker', 'attacker', 'attacker', 'defender', 'defender', 'king', 'defender', 'defender', 'attacker', 'attacker', 'attacker', 'empty', 'empty', 'empty', 'defender', 'empty', 'empty', 'empty', 'attacker', 'empty', 'empty', 'empty', 'empty', 'defender', 'empty', 'empty', 'empty', 'empty', 'empty', 'empty', 'empty', 'empty', 'attacker', 'empty', 'empty', 'empty', 'empty', 'empty', 'empty', 'empty', 'attacker', 'attacker', 'attacker', 'empty', 'empty', 'empty']"
   ]
  },
  {
   "cell_type": "code",
   "execution_count": 66,
   "metadata": {},
   "outputs": [],
   "source": [
    "# current distribution\n",
    "A = ['attacker', 'defender', 'king', 'empty']\n",
    "P = [16/81, 6/81, 1/81, 56/81]\n",
    "\n",
    "M = 256  # State size\n",
    "# Scale probabilities to frequency ranges\n",
    "freq_ranges = {\n",
    "    'empty': (0, int(M * 56/81)),\n",
    "    'attacker': (int(M * 56/81), int(M * (56+16)/81)),\n",
    "    'defender': (int(M * (56+16)/81), int(M * (56+16+6)/81)),\n",
    "    'king': (int(M * (56+16+6)/81), M)\n",
    "}\n",
    "\n",
    "def encode_board(board):\n",
    "    state = 0\n",
    "    for square in reversed(board):  # Process backwards\n",
    "        state = (state * M + freq_ranges[square][0]) % 2**16\n",
    "    return state\n",
    "\n",
    "def decode_state(state):\n",
    "    board = []\n",
    "    while state > 0:\n",
    "        value = state % M\n",
    "        # Find piece type for this value\n",
    "        for piece, (start, end) in freq_ranges.items():\n",
    "            if start <= value < end:\n",
    "                board.append(piece)\n",
    "                break\n",
    "        state //= M\n",
    "    return board"
   ]
  },
  {
   "cell_type": "code",
   "execution_count": 67,
   "metadata": {},
   "outputs": [
    {
     "data": {
      "text/plain": [
       "0"
      ]
     },
     "execution_count": 67,
     "metadata": {},
     "output_type": "execute_result"
    }
   ],
   "source": [
    "encode_board(b)"
   ]
  },
  {
   "cell_type": "code",
   "execution_count": 55,
   "metadata": {},
   "outputs": [
    {
     "name": "stdout",
     "output_type": "stream",
     "text": [
      "['empty', 'empty', 'empty', 'attacker', 'attacker', 'attacker', 'empty', 'empty', 'empty', 'empty', 'empty', 'empty', 'empty', 'attacker', 'empty', 'empty', 'empty', 'empty', 'attacker', 'empty', 'empty', 'empty', 'defender', 'empty', 'empty', 'empty', 'attacker', 'attacker', 'empty', 'empty', 'empty', 'defender', 'empty', 'empty', 'empty', 'attacker', 'attacker', 'attacker', 'defender', 'defender', 'king', 'defender', 'defender', 'attacker', 'attacker', 'attacker', 'empty', 'empty', 'empty', 'defender', 'empty', 'empty', 'empty', 'attacker', 'empty', 'empty', 'empty', 'empty', 'defender', 'empty', 'empty', 'empty', 'empty', 'empty', 'empty', 'empty', 'empty', 'attacker', 'empty', 'empty', 'empty', 'empty', 'empty', 'empty', 'empty', 'attacker', 'attacker', 'attacker', 'empty', 'empty', 'empty']\n"
     ]
    }
   ],
   "source": [
    "start_seq = \"0,0,0,1,1,1,0,0,0,0,0,0,0,1,0,0,0,0,1,0,0,0,2,0,0,0,1,1,0,0,0,2,0,0,0,1,1,1,2,2,3,2,2,1,1,1,0,0,0,2,0,0,0,1,0,0,0,0,2,0,0,0,0,0,0,0,0,1,0,0,0,0,0,0,0,1,1,1,0,0,0\"\n",
    "out = []\n",
    "for i in start_seq:\n",
    "    if i == '0':\n",
    "        out.append('empty')\n",
    "    elif i == '1':\n",
    "        out.append('attacker')\n",
    "    elif i == '2':\n",
    "        out.append('defender')\n",
    "    elif i == '3':\n",
    "        out.append('king')\n",
    "print(out)"
   ]
  },
  {
   "cell_type": "code",
   "execution_count": null,
   "metadata": {},
   "outputs": [],
   "source": []
  }
 ],
 "metadata": {
  "kernelspec": {
   "display_name": "hex",
   "language": "python",
   "name": "python3"
  },
  "language_info": {
   "codemirror_mode": {
    "name": "ipython",
    "version": 3
   },
   "file_extension": ".py",
   "mimetype": "text/x-python",
   "name": "python",
   "nbconvert_exporter": "python",
   "pygments_lexer": "ipython3",
   "version": "3.10.6"
  }
 },
 "nbformat": 4,
 "nbformat_minor": 2
}
