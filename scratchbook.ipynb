{
 "cells": [
  {
   "cell_type": "code",
   "execution_count": 14,
   "metadata": {},
   "outputs": [
    {
     "name": "stdout",
     "output_type": "stream",
     "text": [
      "SQA1, SQB1, SQC1, SQD1, SQE1, SQF1, SQG1, SQH1, SQI1, \n",
      "SQA2, SQB2, SQC2, SQD2, SQE2, SQF2, SQG2, SQH2, SQI2, \n",
      "SQA3, SQB3, SQC3, SQD3, SQE3, SQF3, SQG3, SQH3, SQI3, \n",
      "SQA4, SQB4, SQC4, SQD4, SQE4, SQF4, SQG4, SQH4, SQI4, \n",
      "SQA5, SQB5, SQC5, SQD5, SQE5, SQF5, SQG5, SQH5, SQI5, \n",
      "SQA6, SQB6, SQC6, SQD6, SQE6, SQF6, SQG6, SQH6, SQI6, \n",
      "SQA7, SQB7, SQC7, SQD7, SQE7, SQF7, SQG7, SQH7, SQI7, \n",
      "SQA8, SQB8, SQC8, SQD8, SQE8, SQF8, SQG8, SQH8, SQI8, \n",
      "SQA9, SQB9, SQC9, SQD9, SQE9, SQF9, SQG9, SQH9, SQI9, \n"
     ]
    }
   ],
   "source": [
    "files = [\"A\", \"B\", \"C\", \"D\", \"E\", \"F\", \"G\", \"H\", \"I\"]\n",
    "\n",
    "for j in range(1, 10):\n",
    "    for i in files:\n",
    "        print(f'SQ{i}{j}, ', end='')\n",
    "    print()"
   ]
  },
  {
   "cell_type": "code",
   "execution_count": 18,
   "metadata": {},
   "outputs": [
    {
     "name": "stdout",
     "output_type": "stream",
     "text": [
      "FileA, FileB, FileC, FileD, FileE, FileF, FileG, FileH, FileI, \n",
      "FileA, FileB, FileC, FileD, FileE, FileF, FileG, FileH, FileI, \n",
      "FileA, FileB, FileC, FileD, FileE, FileF, FileG, FileH, FileI, \n",
      "FileA, FileB, FileC, FileD, FileE, FileF, FileG, FileH, FileI, \n",
      "FileA, FileB, FileC, FileD, FileE, FileF, FileG, FileH, FileI, \n",
      "FileA, FileB, FileC, FileD, FileE, FileF, FileG, FileH, FileI, \n",
      "FileA, FileB, FileC, FileD, FileE, FileF, FileG, FileH, FileI, \n",
      "FileA, FileB, FileC, FileD, FileE, FileF, FileG, FileH, FileI, \n",
      "FileA, FileB, FileC, FileD, FileE, FileF, FileG, FileH, FileI, \n"
     ]
    }
   ],
   "source": [
    "for j in range(1, 10):\n",
    "    for file in files:\n",
    "        print(f\"File{file}, \", end='')\n",
    "    print('')"
   ]
  },
  {
   "cell_type": "code",
   "execution_count": 19,
   "metadata": {},
   "outputs": [
    {
     "name": "stdout",
     "output_type": "stream",
     "text": [
      "Rank1, Rank1, Rank1, Rank1, Rank1, Rank1, Rank1, Rank1, Rank1, \n",
      "Rank2, Rank2, Rank2, Rank2, Rank2, Rank2, Rank2, Rank2, Rank2, \n",
      "Rank3, Rank3, Rank3, Rank3, Rank3, Rank3, Rank3, Rank3, Rank3, \n",
      "Rank4, Rank4, Rank4, Rank4, Rank4, Rank4, Rank4, Rank4, Rank4, \n",
      "Rank5, Rank5, Rank5, Rank5, Rank5, Rank5, Rank5, Rank5, Rank5, \n",
      "Rank6, Rank6, Rank6, Rank6, Rank6, Rank6, Rank6, Rank6, Rank6, \n",
      "Rank7, Rank7, Rank7, Rank7, Rank7, Rank7, Rank7, Rank7, Rank7, \n",
      "Rank8, Rank8, Rank8, Rank8, Rank8, Rank8, Rank8, Rank8, Rank8, \n",
      "Rank9, Rank9, Rank9, Rank9, Rank9, Rank9, Rank9, Rank9, Rank9, \n"
     ]
    }
   ],
   "source": [
    "for i in range(1, 10):\n",
    "    for j in range(9):\n",
    "        print(f\"Rank{i}, \", end='')\n",
    "    print('')"
   ]
  },
  {
   "cell_type": "code",
   "execution_count": 25,
   "metadata": {},
   "outputs": [
    {
     "name": "stdout",
     "output_type": "stream",
     "text": [
      "Bitboard(UINT64_C(1) << 0,                    0),     // 0, SQA1\n",
      "Bitboard(UINT64_C(1) << 1,                    0),     // 1, SQB1\n",
      "Bitboard(UINT64_C(1) << 2,                    0),     // 2, SQC1\n",
      "Bitboard(UINT64_C(1) << 3,                    0),     // 3, SQD1\n",
      "Bitboard(UINT64_C(1) << 4,                    0),     // 4, SQE1\n",
      "Bitboard(UINT64_C(1) << 5,                    0),     // 5, SQF1\n",
      "Bitboard(UINT64_C(1) << 6,                    0),     // 6, SQG1\n",
      "Bitboard(UINT64_C(1) << 7,                    0),     // 7, SQH1\n",
      "Bitboard(UINT64_C(1) << 8,                    0),     // 8, SQI1\n",
      "Bitboard(UINT64_C(1) << 9,                    0),     // 9, SQA2\n",
      "Bitboard(UINT64_C(1) << 10,                    0),     // 10, SQB2\n",
      "Bitboard(UINT64_C(1) << 11,                    0),     // 11, SQC2\n",
      "Bitboard(UINT64_C(1) << 12,                    0),     // 12, SQD2\n",
      "Bitboard(UINT64_C(1) << 13,                    0),     // 13, SQE2\n",
      "Bitboard(UINT64_C(1) << 14,                    0),     // 14, SQF2\n",
      "Bitboard(UINT64_C(1) << 15,                    0),     // 15, SQG2\n",
      "Bitboard(UINT64_C(1) << 16,                    0),     // 16, SQH2\n",
      "Bitboard(UINT64_C(1) << 17,                    0),     // 17, SQI2\n",
      "Bitboard(UINT64_C(1) << 18,                    0),     // 18, SQA3\n",
      "Bitboard(UINT64_C(1) << 19,                    0),     // 19, SQB3\n",
      "Bitboard(UINT64_C(1) << 20,                    0),     // 20, SQC3\n",
      "Bitboard(UINT64_C(1) << 21,                    0),     // 21, SQD3\n",
      "Bitboard(UINT64_C(1) << 22,                    0),     // 22, SQE3\n",
      "Bitboard(UINT64_C(1) << 23,                    0),     // 23, SQF3\n",
      "Bitboard(UINT64_C(1) << 24,                    0),     // 24, SQG3\n",
      "Bitboard(UINT64_C(1) << 25,                    0),     // 25, SQH3\n",
      "Bitboard(UINT64_C(1) << 26,                    0),     // 26, SQI3\n",
      "Bitboard(UINT64_C(1) << 27,                    0),     // 27, SQA4\n",
      "Bitboard(UINT64_C(1) << 28,                    0),     // 28, SQB4\n",
      "Bitboard(UINT64_C(1) << 29,                    0),     // 29, SQC4\n",
      "Bitboard(UINT64_C(1) << 30,                    0),     // 30, SQD4\n",
      "Bitboard(UINT64_C(1) << 31,                    0),     // 31, SQE4\n",
      "Bitboard(UINT64_C(1) << 32,                    0),     // 32, SQF4\n",
      "Bitboard(UINT64_C(1) << 33,                    0),     // 33, SQG4\n",
      "Bitboard(UINT64_C(1) << 34,                    0),     // 34, SQH4\n",
      "Bitboard(UINT64_C(1) << 35,                    0),     // 35, SQI4\n",
      "Bitboard(UINT64_C(1) << 36,                    0),     // 36, SQA5\n",
      "Bitboard(UINT64_C(1) << 37,                    0),     // 37, SQB5\n",
      "Bitboard(UINT64_C(1) << 38,                    0),     // 38, SQC5\n",
      "Bitboard(UINT64_C(1) << 39,                    0),     // 39, SQD5\n",
      "Bitboard(UINT64_C(1) << 40,                    0),     // 40, SQE5\n",
      "Bitboard(UINT64_C(1) << 41,                    0),     // 41, SQF5\n",
      "Bitboard(UINT64_C(1) << 42,                    0),     // 42, SQG5\n",
      "Bitboard(UINT64_C(1) << 43,                    0),     // 43, SQH5\n",
      "Bitboard(UINT64_C(1) << 44,                    0),     // 44, SQI5\n",
      "Bitboard(UINT64_C(1) << 45,                    0),     // 45, SQA6\n",
      "Bitboard(UINT64_C(1) << 46,                    0),     // 46, SQB6\n",
      "Bitboard(UINT64_C(1) << 47,                    0),     // 47, SQC6\n",
      "Bitboard(UINT64_C(1) << 48,                    0),     // 48, SQD6\n",
      "Bitboard(UINT64_C(1) << 49,                    0),     // 49, SQE6\n",
      "Bitboard(UINT64_C(1) << 50,                    0),     // 50, SQF6\n",
      "Bitboard(UINT64_C(1) << 51,                    0),     // 51, SQG6\n",
      "Bitboard(UINT64_C(1) << 52,                    0),     // 52, SQH6\n",
      "Bitboard(UINT64_C(1) << 53,                    0),     // 53, SQI6\n",
      "Bitboard(UINT64_C(1) << 54,                    0),     // 54, SQA7\n",
      "Bitboard(UINT64_C(1) << 55,                    0),     // 55, SQB7\n",
      "Bitboard(UINT64_C(1) << 56,                    0),     // 56, SQC7\n",
      "Bitboard(UINT64_C(1) << 57,                    0),     // 57, SQD7\n",
      "Bitboard(UINT64_C(1) << 58,                    0),     // 58, SQE7\n",
      "Bitboard(UINT64_C(1) << 59,                    0),     // 59, SQF7\n",
      "Bitboard(UINT64_C(1) << 60,                    0),     // 60, SQG7\n",
      "Bitboard(UINT64_C(1) << 61,                    0),     // 61, SQH7\n",
      "Bitboard(UINT64_C(1) << 62,                    0),     // 62, SQI7\n",
      "Bitboard(                   0, UINT64_C(1) << 0),     // 63, SQA8\n",
      "Bitboard(                   0, UINT64_C(1) << 1),     // 64, SQB8\n",
      "Bitboard(                   0, UINT64_C(1) << 2),     // 65, SQC8\n",
      "Bitboard(                   0, UINT64_C(1) << 3),     // 66, SQD8\n",
      "Bitboard(                   0, UINT64_C(1) << 4),     // 67, SQE8\n",
      "Bitboard(                   0, UINT64_C(1) << 5),     // 68, SQF8\n",
      "Bitboard(                   0, UINT64_C(1) << 6),     // 69, SQG8\n",
      "Bitboard(                   0, UINT64_C(1) << 7),     // 70, SQH8\n",
      "Bitboard(                   0, UINT64_C(1) << 8),     // 71, SQI8\n",
      "Bitboard(                   0, UINT64_C(1) << 9),     // 72, SQA9\n",
      "Bitboard(                   0, UINT64_C(1) << 10),     // 73, SQB9\n",
      "Bitboard(                   0, UINT64_C(1) << 11),     // 74, SQC9\n",
      "Bitboard(                   0, UINT64_C(1) << 12),     // 75, SQD9\n",
      "Bitboard(                   0, UINT64_C(1) << 13),     // 76, SQE9\n",
      "Bitboard(                   0, UINT64_C(1) << 14),     // 77, SQF9\n",
      "Bitboard(                   0, UINT64_C(1) << 15),     // 78, SQG9\n",
      "Bitboard(                   0, UINT64_C(1) << 16),     // 79, SQH9\n",
      "Bitboard(                   0, UINT64_C(1) << 17),     // 80, SQI9\n"
     ]
    }
   ],
   "source": [
    "for i in range(63):\n",
    "    print(f\"Bitboard(UINT64_C(1) << {i},                    0),     // {i}, SQ{files[i%9]}{i//9+1}\")\n",
    "for i in range(63, 81):\n",
    "    print(f\"Bitboard(                   0, UINT64_C(1) << {i-63}),     // {i}, SQ{files[i%9]}{i//9+1}\")"
   ]
  }
 ],
 "metadata": {
  "kernelspec": {
   "display_name": "hex",
   "language": "python",
   "name": "python3"
  },
  "language_info": {
   "codemirror_mode": {
    "name": "ipython",
    "version": 3
   },
   "file_extension": ".py",
   "mimetype": "text/x-python",
   "name": "python",
   "nbconvert_exporter": "python",
   "pygments_lexer": "ipython3",
   "version": "3.10.6"
  }
 },
 "nbformat": 4,
 "nbformat_minor": 2
}
